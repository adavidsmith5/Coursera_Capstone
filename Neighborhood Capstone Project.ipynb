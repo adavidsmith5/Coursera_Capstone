{
    "cells": [
        {
            "cell_type": "markdown",
            "metadata": {
                "collapsed": true
            },
            "source": "## Coursera Capstone Project\nThis notebook will mainly be used for the capstone project for the IBM Data Science Professional Certificate on Coursera."
        },
        {
            "cell_type": "code",
            "execution_count": 1,
            "metadata": {},
            "outputs": [],
            "source": "import pandas as pd\nimport numpy as np"
        },
        {
            "cell_type": "markdown",
            "metadata": {},
            "source": "## Introduction - Business Problem\n***\nWhen traveling, it is always important to get a hotel in the right area. If you are in a big city that you've never been to, you may not want to try to figure out how to get around whether by taxi, bus, or some other public transportation. You may even just want to avoid spending money on getting around and instead be able to walk everywhere you want to visit. For that reason, we can compare your preferences to the different areas of the city you want to visit and what they have to offer to make a recommendation of where you may want to get a hotel. These preferences could be from a previous trip, so, for example, if you visited New York City last year and want to go to Toronto this year, you could compare neighborhoods that you went to and enjoyed in New York to the neighborhoods in Toronto to see where you might prefer to stay."
        },
        {
            "cell_type": "markdown",
            "metadata": {},
            "source": "## Data\n***\nThe data I will be using will come from FourSquare based on the neighborhoods in Toronto and New York City. The project will be set up so that you can change the two cities, but for the purposes of demonstration that's what I will use. First, I will get the neighborhood latitudes and longitudes which will be needed for gathering the data from FourSquare. I will then use that data to determine similar neighborhoods based on the types of venues that are located in each area. That way I can find which neighborhoods are similar and then make recommendations to the user based on the findings. If the user enjoyed cafes, parks, and museums in New York, they would receive recommendations on where to stay in Toronto that have similar venues."
        },
        {
            "cell_type": "code",
            "execution_count": null,
            "metadata": {},
            "outputs": [],
            "source": ""
        }
    ],
    "metadata": {
        "kernelspec": {
            "display_name": "Python 3.7",
            "language": "python",
            "name": "python3"
        },
        "language_info": {
            "codemirror_mode": {
                "name": "ipython",
                "version": 3
            },
            "file_extension": ".py",
            "mimetype": "text/x-python",
            "name": "python",
            "nbconvert_exporter": "python",
            "pygments_lexer": "ipython3",
            "version": "3.7.9"
        }
    },
    "nbformat": 4,
    "nbformat_minor": 1
}